{
 "cells": [
  {
   "cell_type": "code",
   "execution_count": 16,
   "metadata": {},
   "outputs": [],
   "source": [
    "import requests \n",
    "from bs4 import BeautifulSoup\n",
    "import pandas as pd"
   ]
  },
  {
   "cell_type": "code",
   "execution_count": 17,
   "metadata": {},
   "outputs": [],
   "source": [
    "url= 'https://en.wikipedia.org/wiki/List_of_continents_by_GDP'\n",
    "response= requests.get(url)\n",
    "soup= BeautifulSoup(response.content, 'html.parser')"
   ]
  },
  {
   "cell_type": "code",
   "execution_count": 18,
   "metadata": {},
   "outputs": [],
   "source": [
    "table= soup.find('table', {'class': 'wikitable'})"
   ]
  },
  {
   "cell_type": "code",
   "execution_count": 19,
   "metadata": {},
   "outputs": [],
   "source": [
    "headers= []\n",
    "for header in table.find_all('th'):\n",
    "    headers.append(header.text.strip())"
   ]
  },
  {
   "cell_type": "code",
   "execution_count": 20,
   "metadata": {},
   "outputs": [],
   "source": [
    "rows= []\n",
    "for row in table.find_all('tr')[1:]:\n",
    "    cells= row.find_all('td')\n",
    "    cell_data= [cell.text.strip() for cell in cells]\n",
    "\n",
    "    if len(cell_data) == len(headers):\n",
    "        rows.append(cell_data)\n",
    "    else:\n",
    "        # Add None or a placeholder to match the header length if rows are inconsistent\n",
    "        rows.append(cell_data + [None] * (len(headers) - len(cell_data)))"
   ]
  },
  {
   "cell_type": "code",
   "execution_count": 21,
   "metadata": {},
   "outputs": [
    {
     "data": {
      "text/plain": [
       "[['', 'World', '104,476', '100.0', ''],\n",
       " ['1', 'Asia', '38,435', '36.8', 'China (46.1%)\\xa0Japan (11.0%)'],\n",
       " ['2', 'North America', '31,603', '30.2', 'United States (85.3%)'],\n",
       " ['3',\n",
       "  'Europe',\n",
       "  '25,440',\n",
       "  '24.4',\n",
       "  'Germany (17.4%)\\xa0United Kingdom (13.1%)\\xa0France (12.0%)\\xa0Italy (8.6%)'],\n",
       " ['4', 'South America', '4,100', '3.9', 'Brazil (51.9%)'],\n",
       " ['5',\n",
       "  'Africa',\n",
       "  '2,858',\n",
       "  '2.7',\n",
       "  'Egypt (13.9%)\\xa0Nigeria (13.6%)\\xa0South Africa (13.3%)\\xa0Algeria (7.8%)\\xa0Kenya (5.5%)'],\n",
       " ['6', 'Oceania', '1,979', '1.9', 'Australia (85.3%)'],\n",
       " ['', 'Unaccounted', '62', '0.1', '']]"
      ]
     },
     "execution_count": 21,
     "metadata": {},
     "output_type": "execute_result"
    }
   ],
   "source": [
    "rows"
   ]
  },
  {
   "cell_type": "code",
   "execution_count": null,
   "metadata": {},
   "outputs": [],
   "source": []
  },
  {
   "cell_type": "code",
   "execution_count": 22,
   "metadata": {},
   "outputs": [],
   "source": [
    "df= pd.DataFrame(rows, columns= headers)"
   ]
  },
  {
   "cell_type": "code",
   "execution_count": 26,
   "metadata": {},
   "outputs": [
    {
     "data": {
      "text/html": [
       "<div>\n",
       "<style scoped>\n",
       "    .dataframe tbody tr th:only-of-type {\n",
       "        vertical-align: middle;\n",
       "    }\n",
       "\n",
       "    .dataframe tbody tr th {\n",
       "        vertical-align: top;\n",
       "    }\n",
       "\n",
       "    .dataframe thead th {\n",
       "        text-align: right;\n",
       "    }\n",
       "</style>\n",
       "<table border=\"1\" class=\"dataframe\">\n",
       "  <thead>\n",
       "    <tr style=\"text-align: right;\">\n",
       "      <th></th>\n",
       "      <th>Rank</th>\n",
       "      <th>Continent</th>\n",
       "      <th>GDP(US$billion)</th>\n",
       "      <th>Share (%)</th>\n",
       "    </tr>\n",
       "  </thead>\n",
       "  <tbody>\n",
       "    <tr>\n",
       "      <th>0</th>\n",
       "      <td></td>\n",
       "      <td>World</td>\n",
       "      <td>104,476</td>\n",
       "      <td>100.0</td>\n",
       "    </tr>\n",
       "    <tr>\n",
       "      <th>1</th>\n",
       "      <td>1</td>\n",
       "      <td>Asia</td>\n",
       "      <td>38,435</td>\n",
       "      <td>36.8</td>\n",
       "    </tr>\n",
       "    <tr>\n",
       "      <th>2</th>\n",
       "      <td>2</td>\n",
       "      <td>North America</td>\n",
       "      <td>31,603</td>\n",
       "      <td>30.2</td>\n",
       "    </tr>\n",
       "    <tr>\n",
       "      <th>3</th>\n",
       "      <td>3</td>\n",
       "      <td>Europe</td>\n",
       "      <td>25,440</td>\n",
       "      <td>24.4</td>\n",
       "    </tr>\n",
       "    <tr>\n",
       "      <th>4</th>\n",
       "      <td>4</td>\n",
       "      <td>South America</td>\n",
       "      <td>4,100</td>\n",
       "      <td>3.9</td>\n",
       "    </tr>\n",
       "  </tbody>\n",
       "</table>\n",
       "</div>"
      ],
      "text/plain": [
       "  Rank      Continent GDP(US$billion) Share (%)\n",
       "0               World         104,476     100.0\n",
       "1    1           Asia          38,435      36.8\n",
       "2    2  North America          31,603      30.2\n",
       "3    3         Europe          25,440      24.4\n",
       "4    4  South America           4,100       3.9"
      ]
     },
     "execution_count": 26,
     "metadata": {},
     "output_type": "execute_result"
    }
   ],
   "source": [
    "df.head()"
   ]
  },
  {
   "cell_type": "code",
   "execution_count": 25,
   "metadata": {},
   "outputs": [],
   "source": [
    "df= df.drop(columns= \"Countries collectivelyconstituting at least 50.0% of thecontinent's GDP (nominal)\")"
   ]
  },
  {
   "cell_type": "code",
   "execution_count": 27,
   "metadata": {},
   "outputs": [],
   "source": [
    "df.to_csv('continents_join_1.csv')"
   ]
  }
 ],
 "metadata": {
  "kernelspec": {
   "display_name": "Python 3",
   "language": "python",
   "name": "python3"
  },
  "language_info": {
   "codemirror_mode": {
    "name": "ipython",
    "version": 3
   },
   "file_extension": ".py",
   "mimetype": "text/x-python",
   "name": "python",
   "nbconvert_exporter": "python",
   "pygments_lexer": "ipython3",
   "version": "3.11.3"
  }
 },
 "nbformat": 4,
 "nbformat_minor": 2
}
